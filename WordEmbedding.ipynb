{
 "cells": [
  {
   "cell_type": "code",
   "execution_count": 33,
   "id": "47b5f4a9",
   "metadata": {},
   "outputs": [
    {
     "name": "stderr",
     "output_type": "stream",
     "text": [
      "[nltk_data] Downloading package stopwords to\n",
      "[nltk_data]     C:\\Users\\utkar\\AppData\\Roaming\\nltk_data...\n",
      "[nltk_data]   Package stopwords is already up-to-date!\n"
     ]
    }
   ],
   "source": [
    "import pandas as pd \n",
    "import numpy as np\n",
    "import re\n",
    "import collections\n",
    "import matplotlib.pyplot as plt\n",
    "from pathlib import Path\n",
    "\n",
    "from sklearn.model_selection import train_test_split\n",
    "from nltk.corpus import stopwords\n",
    "from keras.preprocessing.text import Tokenizer\n",
    "from keras.preprocessing.sequence import pad_sequences\n",
    "from keras.utils.np_utils import to_categorical\n",
    "from sklearn.preprocessing import LabelEncoder\n",
    "\n",
    "from keras import models\n",
    "from keras import layers\n",
    "from keras import regularizers\n",
    "\n",
    "from sklearn.metrics import accuracy_score\n",
    "\n",
    "import re, string, random\n",
    "import math\n",
    "import random\n",
    "from collections import defaultdict\n",
    "from pprint import pprint\n",
    "from collections import Counter\n",
    "import nltk\n",
    "from nltk.corpus import stopwords\n",
    "nltk.download('stopwords')\n",
    "import re\n",
    "import string\n",
    "\n",
    "\n",
    "import numpy as np\n",
    "import pandas as pd"
   ]
  },
  {
   "cell_type": "code",
   "execution_count": 23,
   "id": "34c8637a",
   "metadata": {},
   "outputs": [],
   "source": [
    "NB_WORDS = 10000  # Parameter indicating the number of words we'll put in the dictionary\n",
    "VAL_SIZE = 1000  # Size of the validation set\n",
    "NB_START_EPOCHS = 10  # Number of epochs we usually start to train with\n",
    "BATCH_SIZE = 512  # Size of the batches used in the mini-batch gradient descent\n",
    "MAX_LEN = 213  # Maximum number of words in a sequence\n",
    "GLOVE_DIM = 100  # Number of dimensions of the GloVe word embeddings"
   ]
  },
  {
   "cell_type": "code",
   "execution_count": 6,
   "id": "fcc608d6",
   "metadata": {},
   "outputs": [],
   "source": [
    "root = Path('../')\n",
    "input_path = root / 'input/' \n",
    "ouput_path = root / 'output/'\n",
    "source_path = root / 'source/'"
   ]
  },
  {
   "cell_type": "code",
   "execution_count": 7,
   "id": "67719027",
   "metadata": {},
   "outputs": [],
   "source": [
    "def deep_model(model, X_train, y_train, X_valid, y_valid):\n",
    "    '''\n",
    "    Function to train a multi-class model. The number of epochs and \n",
    "    batch_size are set by the constants at the top of the\n",
    "    notebook. \n",
    "    \n",
    "    Parameters:\n",
    "        model : model with the chosen architecture\n",
    "        X_train : training features\n",
    "        y_train : training target\n",
    "        X_valid : validation features\n",
    "        Y_valid : validation target\n",
    "    Output:\n",
    "        model training history\n",
    "    '''\n",
    "    model.compile(optimizer='rmsprop'\n",
    "                  , loss='categorical_crossentropy'\n",
    "                  , metrics=['accuracy'])\n",
    "    \n",
    "    history = model.fit(X_train\n",
    "                       , y_train\n",
    "                       , epochs=NB_START_EPOCHS\n",
    "                       , batch_size=BATCH_SIZE\n",
    "                       , validation_data=(X_valid, y_valid)\n",
    "                       , verbose=0)\n",
    "    return history\n",
    "\n",
    "\n",
    "def eval_metric(history, metric_name):\n",
    "    '''\n",
    "    Function to evaluate a trained model on a chosen metric. \n",
    "    Training and validation metric are plotted in a\n",
    "    line chart for each epoch.\n",
    "    \n",
    "    Parameters:\n",
    "        history : model training history\n",
    "        metric_name : loss or accuracy\n",
    "    Output:\n",
    "        line chart with epochs of x-axis and metric on\n",
    "        y-axis\n",
    "    '''\n",
    "    metric = history.history[metric_name]\n",
    "    val_metric = history.history['val_' + metric_name]\n",
    "\n",
    "    e = range(1, NB_START_EPOCHS + 1)\n",
    "\n",
    "    plt.plot(e, metric, 'bo', label='Train ' + metric_name)\n",
    "    plt.plot(e, val_metric, 'b', label='Validation ' + metric_name)\n",
    "    plt.legend()\n",
    "    plt.show()\n",
    "\n",
    "def test_model(model, X_train, y_train, X_test, y_test, epoch_stop):\n",
    "    '''\n",
    "    Function to test the model on new data after training it\n",
    "    on the full training data with the optimal number of epochs.\n",
    "    \n",
    "    Parameters:\n",
    "        model : trained model\n",
    "        X_train : training features\n",
    "        y_train : training target\n",
    "        X_test : test features\n",
    "        y_test : test target\n",
    "        epochs : optimal number of epochs\n",
    "    Output:\n",
    "        test accuracy and test loss\n",
    "    '''\n",
    "    model.fit(X_train\n",
    "              , y_train\n",
    "              , epochs=epoch_stop\n",
    "              , batch_size=BATCH_SIZE\n",
    "              , verbose=0)\n",
    "    results = model.evaluate(X_test, y_test)\n",
    "    \n",
    "    return results\n",
    "\n",
    "def remove_stopwords(input_text):\n",
    "    '''\n",
    "    Function to remove English stopwords from a Pandas Series.\n",
    "    \n",
    "    Parameters:\n",
    "        input_text : text to clean\n",
    "    Output:\n",
    "        cleaned Pandas Series \n",
    "    '''\n",
    "    stopwords_list = stopwords.words('english')\n",
    "    # Some words which might indicate a certain sentiment are kept via a whitelist\n",
    "    whitelist = [\"n't\", \"not\", \"no\"]\n",
    "    words = input_text.split() \n",
    "    clean_words = [word for word in words if (word not in stopwords_list or word in whitelist) and len(word) > 1] \n",
    "    return \" \".join(clean_words) \n",
    "    \n",
    "def remove_mentions(input_text):\n",
    "    '''\n",
    "    Function to remove mentions, preceded by @, in a Pandas Series\n",
    "    \n",
    "    Parameters:\n",
    "        input_text : text to clean\n",
    "    Output:\n",
    "        cleaned Pandas Series \n",
    "    '''\n",
    "    return re.sub(r'@\\w+', '', input_text)\n"
   ]
  },
  {
   "cell_type": "markdown",
   "id": "6daa181e",
   "metadata": {},
   "source": [
    "<strong><h1>Data Preparation</h1></strong>"
   ]
  },
  {
   "cell_type": "code",
   "execution_count": 13,
   "id": "ac4fcee2",
   "metadata": {},
   "outputs": [
    {
     "data": {
      "text/html": [
       "<div>\n",
       "<style scoped>\n",
       "    .dataframe tbody tr th:only-of-type {\n",
       "        vertical-align: middle;\n",
       "    }\n",
       "\n",
       "    .dataframe tbody tr th {\n",
       "        vertical-align: top;\n",
       "    }\n",
       "\n",
       "    .dataframe thead th {\n",
       "        text-align: right;\n",
       "    }\n",
       "</style>\n",
       "<table border=\"1\" class=\"dataframe\">\n",
       "  <thead>\n",
       "    <tr style=\"text-align: right;\">\n",
       "      <th></th>\n",
       "      <th>Unnamed: 0</th>\n",
       "      <th>score</th>\n",
       "      <th>review</th>\n",
       "    </tr>\n",
       "  </thead>\n",
       "  <tbody>\n",
       "    <tr>\n",
       "      <th>0</th>\n",
       "      <td>0</td>\n",
       "      <td>1</td>\n",
       "      <td>Stuning even for the non-gamer: This sound tr...</td>\n",
       "    </tr>\n",
       "    <tr>\n",
       "      <th>1</th>\n",
       "      <td>1</td>\n",
       "      <td>1</td>\n",
       "      <td>The best soundtrack ever to anything.: I'm re...</td>\n",
       "    </tr>\n",
       "    <tr>\n",
       "      <th>2</th>\n",
       "      <td>2</td>\n",
       "      <td>1</td>\n",
       "      <td>Amazing!: This soundtrack is my favorite musi...</td>\n",
       "    </tr>\n",
       "    <tr>\n",
       "      <th>3</th>\n",
       "      <td>3</td>\n",
       "      <td>1</td>\n",
       "      <td>Excellent Soundtrack: I truly like this sound...</td>\n",
       "    </tr>\n",
       "    <tr>\n",
       "      <th>4</th>\n",
       "      <td>4</td>\n",
       "      <td>1</td>\n",
       "      <td>Remember, Pull Your Jaw Off The Floor After H...</td>\n",
       "    </tr>\n",
       "  </tbody>\n",
       "</table>\n",
       "</div>"
      ],
      "text/plain": [
       "   Unnamed: 0  score                                             review\n",
       "0           0      1   Stuning even for the non-gamer: This sound tr...\n",
       "1           1      1   The best soundtrack ever to anything.: I'm re...\n",
       "2           2      1   Amazing!: This soundtrack is my favorite musi...\n",
       "3           3      1   Excellent Soundtrack: I truly like this sound...\n",
       "4           4      1   Remember, Pull Your Jaw Off The Floor After H..."
      ]
     },
     "execution_count": 13,
     "metadata": {},
     "output_type": "execute_result"
    }
   ],
   "source": [
    "#Reading and Cleaning Data\n",
    "reviews = pd.read_csv(r\"C:\\Users\\utkar\\Desktop\\Research Paper\\amazon_reviews_sample.csv\")\n",
    "#df = df.reindex(np.random.permutation(df.index))  \n",
    "#df = df[['text', 'airline_sentiment']]\n",
    "#df.review = df.review.apply(remove_stopwords).apply(remove_mentions)\n",
    "df = pd.DataFrame(reviews)\n",
    "df.head()"
   ]
  },
  {
   "cell_type": "code",
   "execution_count": 14,
   "id": "770ee650",
   "metadata": {},
   "outputs": [],
   "source": [
    "stop = set(stopwords.words('english'))\n",
    "def clean_document(doco):\n",
    "    punctuation = string.punctuation\n",
    "    punc_replace = ''.join([' ' for s in punctuation])\n",
    "    doco_link_clean = re.sub(r'http\\S+', '', doco)\n",
    "    doco_clean_and = re.sub(r'&\\S+', '', doco_link_clean)\n",
    "    doco_clean_at = re.sub(r'@\\S+', '', doco_clean_and)\n",
    "    doco_clean = doco_clean_at.replace('-', ' ')\n",
    "    doco_alphas = re.sub(r'\\W +', ' ', doco_clean)\n",
    "    trans_table = str.maketrans(punctuation, punc_replace)\n",
    "    doco_clean = ' '.join([word.translate(trans_table) for word in doco_alphas.split(' ')])\n",
    "    doco_clean = doco_clean.split(' ')\n",
    "    p = re.compile(r'\\s*\\b(?=[a-z\\d]*([a-z\\d])\\1{3}|\\d+\\b)[a-z\\d]+', re.IGNORECASE)\n",
    "    doco_clean = ([p.sub(\"\", x).strip() for x in doco_clean])\n",
    "    doco_clean = [word.lower() for word in doco_clean if len(word) > 2]\n",
    "    doco_clean = ([i for i in doco_clean if i not in stop])\n",
    "    doco_clean = ([i for i in doco_clean if i.isalpha()]) # removing numeric\n",
    "    #doco_clean = ([[word for word in item if word.isalpha()] for item in doco_clean])\n",
    "#     doco_clean = [spell(word) for word in doco_clean]\n",
    "#     p = re.compile(r'\\s*\\b(?=[a-z\\d]*([a-z\\d])\\1{3}|\\d+\\b)[a-z\\d]+', re.IGNORECASE)\n",
    "    doco_clean = ([p.sub(\"\", x).strip() for x in doco_clean])\n",
    "#     doco_clean = ([spell(k) for k in doco_clean])\n",
    "    return doco_clean"
   ]
  },
  {
   "cell_type": "code",
   "execution_count": 17,
   "id": "b8a051ef",
   "metadata": {},
   "outputs": [
    {
     "data": {
      "text/html": [
       "<div>\n",
       "<style scoped>\n",
       "    .dataframe tbody tr th:only-of-type {\n",
       "        vertical-align: middle;\n",
       "    }\n",
       "\n",
       "    .dataframe tbody tr th {\n",
       "        vertical-align: top;\n",
       "    }\n",
       "\n",
       "    .dataframe thead th {\n",
       "        text-align: right;\n",
       "    }\n",
       "</style>\n",
       "<table border=\"1\" class=\"dataframe\">\n",
       "  <thead>\n",
       "    <tr style=\"text-align: right;\">\n",
       "      <th></th>\n",
       "      <th>Unnamed: 0</th>\n",
       "      <th>score</th>\n",
       "      <th>review</th>\n",
       "      <th>cleantext</th>\n",
       "    </tr>\n",
       "  </thead>\n",
       "  <tbody>\n",
       "    <tr>\n",
       "      <th>9980</th>\n",
       "      <td>9980</td>\n",
       "      <td>1</td>\n",
       "      <td>Magic, on Blu Ray, starrring Anthony Hopkins ...</td>\n",
       "      <td>magic blu ray starrring anthony hopkins ann ma...</td>\n",
       "    </tr>\n",
       "    <tr>\n",
       "      <th>9981</th>\n",
       "      <td>9981</td>\n",
       "      <td>1</td>\n",
       "      <td>A ventriloquists nightmare: Magic is a timele...</td>\n",
       "      <td>ventriloquists nightmare magic timeless suspen...</td>\n",
       "    </tr>\n",
       "    <tr>\n",
       "      <th>9982</th>\n",
       "      <td>9982</td>\n",
       "      <td>0</td>\n",
       "      <td>great movie massacred by tape quality: One of...</td>\n",
       "      <td>great movie massacred tape quality one time fa...</td>\n",
       "    </tr>\n",
       "    <tr>\n",
       "      <th>9983</th>\n",
       "      <td>9983</td>\n",
       "      <td>1</td>\n",
       "      <td>Early Hopkins story still sends chills throug...</td>\n",
       "      <td>early hopkins story still sends chills viewers...</td>\n",
       "    </tr>\n",
       "    <tr>\n",
       "      <th>9984</th>\n",
       "      <td>9984</td>\n",
       "      <td>0</td>\n",
       "      <td>The Only Dummy Is The Writer: \"Magic\" poses t...</td>\n",
       "      <td>dummy writer magic poses question whether vent...</td>\n",
       "    </tr>\n",
       "    <tr>\n",
       "      <th>9985</th>\n",
       "      <td>9985</td>\n",
       "      <td>1</td>\n",
       "      <td>\"He's NO Dummy. . .\": Viewing \"Magic\" is when...</td>\n",
       "      <td>dummy viewing magic first became aware anthony...</td>\n",
       "    </tr>\n",
       "    <tr>\n",
       "      <th>9986</th>\n",
       "      <td>9986</td>\n",
       "      <td>1</td>\n",
       "      <td>Amazingly suspenseful psychological thriller:...</td>\n",
       "      <td>amazingly suspenseful psychological thriller s...</td>\n",
       "    </tr>\n",
       "    <tr>\n",
       "      <th>9987</th>\n",
       "      <td>9987</td>\n",
       "      <td>1</td>\n",
       "      <td>A truly great horror movie: I saw this film l...</td>\n",
       "      <td>truly great horror movie saw film last night r...</td>\n",
       "    </tr>\n",
       "    <tr>\n",
       "      <th>9988</th>\n",
       "      <td>9988</td>\n",
       "      <td>1</td>\n",
       "      <td>Frightening movie with superb acting by Sir H...</td>\n",
       "      <td>frightening movie superb acting sir hopkins re...</td>\n",
       "    </tr>\n",
       "    <tr>\n",
       "      <th>9989</th>\n",
       "      <td>9989</td>\n",
       "      <td>1</td>\n",
       "      <td>classic: i got this for my dad. it is super c...</td>\n",
       "      <td>classic got dad super creepy worth watch watch...</td>\n",
       "    </tr>\n",
       "    <tr>\n",
       "      <th>9990</th>\n",
       "      <td>9990</td>\n",
       "      <td>1</td>\n",
       "      <td>Psychological thriller!: This movie really sc...</td>\n",
       "      <td>psychological thriller movie really scared cam...</td>\n",
       "    </tr>\n",
       "    <tr>\n",
       "      <th>9991</th>\n",
       "      <td>9991</td>\n",
       "      <td>1</td>\n",
       "      <td>A little more money than what I expected to s...</td>\n",
       "      <td>little money expected spend good movie husband...</td>\n",
       "    </tr>\n",
       "    <tr>\n",
       "      <th>9992</th>\n",
       "      <td>9992</td>\n",
       "      <td>0</td>\n",
       "      <td>\"The Silence of the Dummies\": This is overall...</td>\n",
       "      <td>silence dummies overall real hoot anthony hopk...</td>\n",
       "    </tr>\n",
       "    <tr>\n",
       "      <th>9993</th>\n",
       "      <td>9993</td>\n",
       "      <td>0</td>\n",
       "      <td>Mauled again - killing bears to enrich himsel...</td>\n",
       "      <td>mauled killing bears enrich jim cole ticketed ...</td>\n",
       "    </tr>\n",
       "    <tr>\n",
       "      <th>9994</th>\n",
       "      <td>9994</td>\n",
       "      <td>0</td>\n",
       "      <td>Sorry Jim: As a former realtor, Mr. Cole owes...</td>\n",
       "      <td>sorry jim former realtor cole owes natural wor...</td>\n",
       "    </tr>\n",
       "    <tr>\n",
       "      <th>9995</th>\n",
       "      <td>9995</td>\n",
       "      <td>1</td>\n",
       "      <td>A revelation of life in small town America in...</td>\n",
       "      <td>revelation life small town america early thoug...</td>\n",
       "    </tr>\n",
       "    <tr>\n",
       "      <th>9996</th>\n",
       "      <td>9996</td>\n",
       "      <td>1</td>\n",
       "      <td>Great biography of a very interesting journal...</td>\n",
       "      <td>great biography interesting journalist biograp...</td>\n",
       "    </tr>\n",
       "    <tr>\n",
       "      <th>9997</th>\n",
       "      <td>9997</td>\n",
       "      <td>0</td>\n",
       "      <td>Interesting Subject; Poor Presentation: You'd...</td>\n",
       "      <td>interesting subject poor presentation hard pre...</td>\n",
       "    </tr>\n",
       "    <tr>\n",
       "      <th>9998</th>\n",
       "      <td>9998</td>\n",
       "      <td>0</td>\n",
       "      <td>Don't buy: The box looked used and it is obvi...</td>\n",
       "      <td>buy box looked used obviously new tried contac...</td>\n",
       "    </tr>\n",
       "    <tr>\n",
       "      <th>9999</th>\n",
       "      <td>9999</td>\n",
       "      <td>1</td>\n",
       "      <td>Beautiful Pen and Fast Delivery.: The pen was...</td>\n",
       "      <td>beautiful pen fast delivery pen shipped prompt...</td>\n",
       "    </tr>\n",
       "  </tbody>\n",
       "</table>\n",
       "</div>"
      ],
      "text/plain": [
       "      Unnamed: 0  score                                             review  \\\n",
       "9980        9980      1   Magic, on Blu Ray, starrring Anthony Hopkins ...   \n",
       "9981        9981      1   A ventriloquists nightmare: Magic is a timele...   \n",
       "9982        9982      0   great movie massacred by tape quality: One of...   \n",
       "9983        9983      1   Early Hopkins story still sends chills throug...   \n",
       "9984        9984      0   The Only Dummy Is The Writer: \"Magic\" poses t...   \n",
       "9985        9985      1   \"He's NO Dummy. . .\": Viewing \"Magic\" is when...   \n",
       "9986        9986      1   Amazingly suspenseful psychological thriller:...   \n",
       "9987        9987      1   A truly great horror movie: I saw this film l...   \n",
       "9988        9988      1   Frightening movie with superb acting by Sir H...   \n",
       "9989        9989      1   classic: i got this for my dad. it is super c...   \n",
       "9990        9990      1   Psychological thriller!: This movie really sc...   \n",
       "9991        9991      1   A little more money than what I expected to s...   \n",
       "9992        9992      0   \"The Silence of the Dummies\": This is overall...   \n",
       "9993        9993      0   Mauled again - killing bears to enrich himsel...   \n",
       "9994        9994      0   Sorry Jim: As a former realtor, Mr. Cole owes...   \n",
       "9995        9995      1   A revelation of life in small town America in...   \n",
       "9996        9996      1   Great biography of a very interesting journal...   \n",
       "9997        9997      0   Interesting Subject; Poor Presentation: You'd...   \n",
       "9998        9998      0   Don't buy: The box looked used and it is obvi...   \n",
       "9999        9999      1   Beautiful Pen and Fast Delivery.: The pen was...   \n",
       "\n",
       "                                              cleantext  \n",
       "9980  magic blu ray starrring anthony hopkins ann ma...  \n",
       "9981  ventriloquists nightmare magic timeless suspen...  \n",
       "9982  great movie massacred tape quality one time fa...  \n",
       "9983  early hopkins story still sends chills viewers...  \n",
       "9984  dummy writer magic poses question whether vent...  \n",
       "9985  dummy viewing magic first became aware anthony...  \n",
       "9986  amazingly suspenseful psychological thriller s...  \n",
       "9987  truly great horror movie saw film last night r...  \n",
       "9988  frightening movie superb acting sir hopkins re...  \n",
       "9989  classic got dad super creepy worth watch watch...  \n",
       "9990  psychological thriller movie really scared cam...  \n",
       "9991  little money expected spend good movie husband...  \n",
       "9992  silence dummies overall real hoot anthony hopk...  \n",
       "9993  mauled killing bears enrich jim cole ticketed ...  \n",
       "9994  sorry jim former realtor cole owes natural wor...  \n",
       "9995  revelation life small town america early thoug...  \n",
       "9996  great biography interesting journalist biograp...  \n",
       "9997  interesting subject poor presentation hard pre...  \n",
       "9998  buy box looked used obviously new tried contac...  \n",
       "9999  beautiful pen fast delivery pen shipped prompt...  "
      ]
     },
     "execution_count": 17,
     "metadata": {},
     "output_type": "execute_result"
    }
   ],
   "source": [
    "review_clean = [clean_document(doc) for doc in df['review']]\n",
    "sentences = [' '.join(r) for r in review_clean]\n",
    "df['cleantext']=sentences\n",
    "df.tail(20)"
   ]
  },
  {
   "cell_type": "markdown",
   "id": "dc762d93",
   "metadata": {},
   "source": [
    "<strong>Train-Test split</strong>"
   ]
  },
  {
   "cell_type": "code",
   "execution_count": 19,
   "id": "f551421d",
   "metadata": {},
   "outputs": [
    {
     "name": "stdout",
     "output_type": "stream",
     "text": [
      "# Train data samples: 9000\n",
      "# Test data samples: 1000\n"
     ]
    }
   ],
   "source": [
    "X_train, X_test, y_train, y_test = train_test_split(df.review, df.score, test_size=0.1, random_state=37)\n",
    "print('# Train data samples:', X_train.shape[0])\n",
    "print('# Test data samples:', X_test.shape[0])\n",
    "assert X_train.shape[0] == y_train.shape[0]\n",
    "assert X_test.shape[0] == y_test.shape[0]"
   ]
  },
  {
   "cell_type": "markdown",
   "id": "549a0900",
   "metadata": {},
   "source": [
    "<strong>Converting words to numbers</strong>"
   ]
  },
  {
   "cell_type": "code",
   "execution_count": 36,
   "id": "b5171d2a",
   "metadata": {},
   "outputs": [
    {
     "name": "stderr",
     "output_type": "stream",
     "text": [
      "IOPub data rate exceeded.\n",
      "The notebook server will temporarily stop sending output\n",
      "to the client in order to avoid crashing it.\n",
      "To change this limit, set the config variable\n",
      "`--NotebookApp.iopub_data_rate_limit`.\n",
      "\n",
      "Current values:\n",
      "NotebookApp.iopub_data_rate_limit=1000000.0 (bytes/sec)\n",
      "NotebookApp.rate_limit_window=3.0 (secs)\n",
      "\n"
     ]
    }
   ],
   "source": [
    "tk = Tokenizer(num_words=NB_WORDS,\n",
    "               filters='!\"#$%&()*+,-./:;<=>?@[\\\\]^_`{|}~\\t\\n',\n",
    "               lower=True,\n",
    "               split=\" \")\n",
    "tk.fit_on_texts(X_train)\n",
    "\n",
    "X_train_seq = tk.texts_to_sequences(X_train)\n",
    "X_test_seq = tk.texts_to_sequences(X_test)"
   ]
  },
  {
   "cell_type": "markdown",
   "id": "81bf1f41",
   "metadata": {},
   "source": [
    "<strong>Creating word sequences of equal length</strong>\n",
    "Before we can compute the word embeddings, we need to make sure the sequences are of equal length. In the example below, we truncate sequences to length MAX_LEN, or pad them with zeroes to achieve this. First, we'll have a look at the length of the (cleaned) tweets."
   ]
  },
  {
   "cell_type": "code",
   "execution_count": 22,
   "id": "700017fa",
   "metadata": {},
   "outputs": [
    {
     "data": {
      "text/plain": [
       "count    9000.000000\n",
       "mean       80.399889\n",
       "std        42.951278\n",
       "min        15.000000\n",
       "25%        44.000000\n",
       "50%        72.000000\n",
       "75%       110.000000\n",
       "max       213.000000\n",
       "Name: review, dtype: float64"
      ]
     },
     "execution_count": 22,
     "metadata": {},
     "output_type": "execute_result"
    }
   ],
   "source": [
    "seq_lengths = X_train.apply(lambda x: len(x.split(' ')))\n",
    "seq_lengths.describe()"
   ]
  },
  {
   "cell_type": "markdown",
   "id": "dfab2a44",
   "metadata": {},
   "source": [
    "Based on the figures above we will set MAX_LEN to 213. So this means we will not be truncating any words, only pad with zeros. This is to avoid to lose information as the tweets are rather short."
   ]
  },
  {
   "cell_type": "code",
   "execution_count": 24,
   "id": "230e03e4",
   "metadata": {},
   "outputs": [],
   "source": [
    "X_train_seq_trunc = pad_sequences(X_train_seq, maxlen=MAX_LEN)\n",
    "X_test_seq_trunc = pad_sequences(X_test_seq, maxlen=MAX_LEN)"
   ]
  },
  {
   "cell_type": "code",
   "execution_count": 25,
   "id": "77f594e6",
   "metadata": {},
   "outputs": [
    {
     "data": {
      "text/plain": [
       "array([   0,    0,    0,    0,    0,    0,    0,    0,    0,    0,    0,\n",
       "          0,    0,    0,    0,    0,    0,    0,    0,    0,    0,    0,\n",
       "          0,    0,    0,    0,    0,    0,    0,    0,    0,    0,    0,\n",
       "          0,    0,    0,    0,    0,    0,    0,    0,    0,    0,    0,\n",
       "          0,    0,    0,    0,    0,    0,    0,    0,    0,    0,    0,\n",
       "          0,    0,    0,    0,    0,    0,    0,    0,    0,    0,    0,\n",
       "          0,    0,    0,    0,    0,    0,    0,    0,    0,    0,    0,\n",
       "          0,    0,    0,    0,    0,    0,    0,    0,    0,    0,    0,\n",
       "          0,    0,    0,    0,    0,    0,    0,    0,    0,    0,    0,\n",
       "          0,    0,    0,    0,    0,    0,    0,    0,    0,    0,    0,\n",
       "          0,    0,    0,    0,    0,    0,    0,    0,    0,    0,    0,\n",
       "          0,    0,    0,    0,    0,    0,    0,    0,    0,    0,    0,\n",
       "          0,    0,    0,    0,    0,    0,    0,    0,    0,    0,    0,\n",
       "          0,    0,    0,    0,    0,    0,    0,    0,    0,    0,    0,\n",
       "          0,    0,    0,    0,    0,    0,    0,    0,    0,    0,    0,\n",
       "          0,   14,   17,    1,   91,   15,    3,   22,  107,   34, 3774,\n",
       "        721,   14,   38,   43,  373,   15,    3,   14,  426,  105,    6,\n",
       "          1,   52,    2,    1,   15,  139,   63,  108,   81,   71,  458,\n",
       "          5,   44,   29,    3,   51,    5,   34,    8,   15,  112,  150,\n",
       "          3,  349,  469,   11])"
      ]
     },
     "execution_count": 25,
     "metadata": {},
     "output_type": "execute_result"
    }
   ],
   "source": [
    "X_train_seq_trunc[10]  # Example of padded sequence"
   ]
  },
  {
   "cell_type": "markdown",
   "id": "b4f8d02e",
   "metadata": {},
   "source": [
    "<strong>Converting the target classes to numbers</strong>"
   ]
  },
  {
   "cell_type": "code",
   "execution_count": 39,
   "id": "ca2dbd26",
   "metadata": {},
   "outputs": [
    {
     "name": "stdout",
     "output_type": "stream",
     "text": [
      "[0 1 0 ... 0 0 1]\n"
     ]
    }
   ],
   "source": [
    "le = LabelEncoder()\n",
    "y_train_le = le.fit_transform(y_train)\n",
    "y_test_le = le.transform(y_test)\n",
    "y_train_oh = to_categorical(y_train_le)\n",
    "y_test_oh = to_categorical(y_test_le)"
   ]
  },
  {
   "cell_type": "markdown",
   "id": "8ce79c6f",
   "metadata": {},
   "source": [
    "<strong>Splitting off validation data</strong>"
   ]
  },
  {
   "cell_type": "code",
   "execution_count": 27,
   "id": "2353550d",
   "metadata": {},
   "outputs": [
    {
     "name": "stdout",
     "output_type": "stream",
     "text": [
      "Shape of validation set: (900, 213)\n"
     ]
    }
   ],
   "source": [
    "X_train_emb, X_valid_emb, y_train_emb, y_valid_emb = train_test_split(X_train_seq_trunc, y_train_oh, test_size=0.1, random_state=37)\n",
    "\n",
    "assert X_valid_emb.shape[0] == y_valid_emb.shape[0]\n",
    "assert X_train_emb.shape[0] == y_train_emb.shape[0]\n",
    "\n",
    "print('Shape of validation set:',X_valid_emb.shape)"
   ]
  },
  {
   "cell_type": "markdown",
   "id": "8ab34382",
   "metadata": {},
   "source": [
    "<strong><h1>Modelling</h1>\n",
    "    Training Word Embeddings</strong>\n",
    "    Keras provides an Embedding layer which helps us to train specific word embeddings based on our training data. It will convert the words in our vocabulary to multi-dimensional vectors."
   ]
  },
  {
   "cell_type": "code",
   "execution_count": 78,
   "id": "dca8fbed",
   "metadata": {},
   "outputs": [
    {
     "name": "stdout",
     "output_type": "stream",
     "text": [
      "Model: \"sequential_5\"\n",
      "_________________________________________________________________\n",
      "Layer (type)                 Output Shape              Param #   \n",
      "=================================================================\n",
      "embedding_5 (Embedding)      (None, 213, 8)            80000     \n",
      "_________________________________________________________________\n",
      "flatten_5 (Flatten)          (None, 1704)              0         \n",
      "_________________________________________________________________\n",
      "dense_5 (Dense)              (None, 2)                 3410      \n",
      "=================================================================\n",
      "Total params: 83,410\n",
      "Trainable params: 83,410\n",
      "Non-trainable params: 0\n",
      "_________________________________________________________________\n"
     ]
    }
   ],
   "source": [
    "emb_model = models.Sequential()\n",
    "emb_model.add(layers.Embedding(NB_WORDS, 8, input_length=MAX_LEN))\n",
    "emb_model.add(layers.Flatten())\n",
    "emb_model.add(layers.Dense(2, activation='softmax'))\n",
    "emb_model.summary()"
   ]
  },
  {
   "cell_type": "code",
   "execution_count": 79,
   "id": "e076d69d",
   "metadata": {},
   "outputs": [],
   "source": [
    "emb_history = deep_model(emb_model, X_train_emb, y_train_emb, X_valid_emb, y_valid_emb)"
   ]
  },
  {
   "cell_type": "code",
   "execution_count": 80,
   "id": "5c0da190",
   "metadata": {},
   "outputs": [
    {
     "data": {
      "text/plain": [
       "0.9090123176574707"
      ]
     },
     "execution_count": 80,
     "metadata": {},
     "output_type": "execute_result"
    }
   ],
   "source": [
    "emb_history.history['accuracy'][-1]\n",
    "#Validation Accuracy is 90.9% when using Deep Learning Sequential Word Embedding"
   ]
  },
  {
   "cell_type": "code",
   "execution_count": 82,
   "id": "36dc9d0e",
   "metadata": {},
   "outputs": [
    {
     "data": {
      "image/png": "[encoded data removed]",
      "text/plain": [
       "<Figure size 432x288 with 1 Axes>"
      ]
     },
     "metadata": {
      "needs_background": "light"
     },
     "output_type": "display_data"
    }
   ],
   "source": [
    "eval_metric(emb_history, 'accuracy')"
   ]
  },
  {
   "cell_type": "code",
   "execution_count": 83,
   "id": "6ceb70fd",
   "metadata": {},
   "outputs": [
    {
     "data": {
      "image/png": "[encoded data removed]",
      "text/plain": [
       "<Figure size 432x288 with 1 Axes>"
      ]
     },
     "metadata": {
      "needs_background": "light"
     },
     "output_type": "display_data"
    }
   ],
   "source": [
    "eval_metric(emb_history, 'loss')"
   ]
  },
  {
   "cell_type": "markdown",
   "id": "87cc898c",
   "metadata": {},
   "source": [
    "By comparing training and validation accuracy and loss, we see that the model starts overfitting from epoch 5"
   ]
  },
  {
   "cell_type": "code",
   "execution_count": 84,
   "id": "85154a86",
   "metadata": {},
   "outputs": [
    {
     "name": "stdout",
     "output_type": "stream",
     "text": [
      "32/32 [==============================] - 0s 645us/step - loss: 0.3482 - accuracy: 0.8550\n"
     ]
    }
   ],
   "source": [
    "emb_results = test_model(emb_model, X_train_seq_trunc, y_train_oh, X_test_seq_trunc, y_test_oh, 7)"
   ]
  },
  {
   "cell_type": "markdown",
   "id": "cbc5087f",
   "metadata": {},
   "source": [
    "<strong>Test Accuracy of Sequential Word Embedding is 85.50%</strong>"
   ]
  },
  {
   "cell_type": "code",
   "execution_count": 88,
   "id": "e48b42de",
   "metadata": {},
   "outputs": [
    {
     "ename": "NameError",
     "evalue": "name 'WNlemmatizer' is not defined",
     "output_type": "error",
     "traceback": [
      "\u001b[1;31m---------------------------------------------------------------------------\u001b[0m",
      "\u001b[1;31mNameError\u001b[0m                                 Traceback (most recent call last)",
      "\u001b[1;32m<ipython-input-88-39d4eef3f93e>\u001b[0m in \u001b[0;36m<module>\u001b[1;34m\u001b[0m\n\u001b[1;32m----> 1\u001b[1;33m \u001b[0mWNlemmatizer\u001b[0m\u001b[1;33m.\u001b[0m\u001b[0mlemmatize\u001b[0m\u001b[1;33m(\u001b[0m\u001b[1;34m'furthering'\u001b[0m\u001b[1;33m,\u001b[0m\u001b[1;34m'v'\u001b[0m\u001b[1;33m)\u001b[0m\u001b[1;33m\u001b[0m\u001b[1;33m\u001b[0m\u001b[0m\n\u001b[0m",
      "\u001b[1;31mNameError\u001b[0m: name 'WNlemmatizer' is not defined"
     ]
    }
   ],
   "source": []
  }
 ],
 "metadata": {
  "kernelspec": {
   "display_name": "Python 3",
   "language": "python",
   "name": "python3"
  },
  "language_info": {
   "codemirror_mode": {
    "name": "ipython",
    "version": 3
   },
   "file_extension": ".py",
   "mimetype": "text/x-python",
   "name": "python",
   "nbconvert_exporter": "python",
   "pygments_lexer": "ipython3",
   "version": "3.8.10"
  }
 },
 "nbformat": 4,
 "nbformat_minor": 5
}
